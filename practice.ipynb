{
 "cells": [
  {
   "attachments": {},
   "cell_type": "markdown",
   "metadata": {},
   "source": [
    "# ITs aiグループ 練習用コンペティション"
   ]
  },
  {
   "attachments": {},
   "cell_type": "markdown",
   "metadata": {},
   "source": [
    "1.  train.csvを学習用データとして，生き残った人を予測するモデルを作成して下さい．(分類)\n",
    "2.  test.csvには教師データがありません．生き残った人を\"1\",亡くなった人を\"0\"とするような予測データを提出してください．(test.csvはシャッフルしないように！)\n",
    "3.  ソースコードも提出してください．\n",
    "4.  特徴量の意味などを自分で調べるのも自由です．\n",
    "5.  使用する手法などは自由です．"
   ]
  }
 ],
 "metadata": {
  "language_info": {
   "name": "python"
  },
  "orig_nbformat": 4
 },
 "nbformat": 4,
 "nbformat_minor": 2
}
